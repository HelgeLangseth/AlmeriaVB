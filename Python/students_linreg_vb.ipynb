{
 "cells": [
  {
   "cell_type": "markdown",
   "metadata": {},
   "source": [
    "# Linear regression with Variational Bayes"
   ]
  },
  {
   "cell_type": "markdown",
   "metadata": {},
   "source": [
    "### Imports"
   ]
  },
  {
   "cell_type": "code",
   "execution_count": null,
   "metadata": {},
   "outputs": [],
   "source": [
    "import matplotlib.pyplot as plt\n",
    "%matplotlib notebook\n",
    "import numpy as np\n",
    "from scipy.stats import multivariate_normal"
   ]
  },
  {
   "cell_type": "markdown",
   "metadata": {},
   "source": [
    "### Define model and generate data"
   ]
  },
  {
   "cell_type": "code",
   "execution_count": null,
   "metadata": {},
   "outputs": [],
   "source": [
    "N = 10   # No. data points\n",
    "w0 = 1.    # The offset in the line y = w0 + w1 * x\n",
    "w1 = .25   # The incline in the same line\n",
    "gamma = 4. # The *precision* in the observation noise\n",
    "st_dev = 1. / np.sqrt(gamma)  # And corresponding standard deviation\n",
    "np.random.seed(123)\n",
    "x = 5 * np.random.rand(N)     # The x-points are sampled uniformly on [0, 5]\n",
    "y = np.random.normal(loc=w0 + w1 * x, scale=st_dev) # And the response is sampled from the Normal"
   ]
  },
  {
   "cell_type": "markdown",
   "metadata": {},
   "source": [
    "### Plotting of data (i.e., $x$-axis is the covariate, $y$-axis the response)"
   ]
  },
  {
   "cell_type": "code",
   "execution_count": null,
   "metadata": {},
   "outputs": [],
   "source": [
    "def data_plotter(x, y=None, true_w0=None, true_w1=None,\n",
    "                 approx_w0=None, approx_w1=None):\n",
    "    \"\"\"\n",
    "    Use to plot data. If y is not noe it contains responses, and (x,y) will be scatter-plotted\n",
    "    If neither true_w0 nor true_w1 is None, we will plot the line true_w0 + x * true_w1 in red.\n",
    "    If neither approx_w0 nor approx_w1 is None, we plot the line approx_w0 + x * approx_w1 in green.\n",
    "    \"\"\"\n",
    "    if y is not None:\n",
    "        plt.plot(x, y, \"bo\")\n",
    "\n",
    "    # Plot true line if given\n",
    "    if true_w0 is not None and true_w1 is not None:\n",
    "        plt.plot(x, true_w0 + true_w1 * x, \"r-\")\n",
    "\n",
    "    # Plot approximation if given\n",
    "    if approx_w0 is not None and approx_w1 is not None:\n",
    "        plt.plot(x, approx_w0+ approx_w1* x, \"g-\", alpha=.2)\n"
   ]
  },
  {
   "cell_type": "markdown",
   "metadata": {},
   "source": [
    "### ... and of densities ($x$-axis correspond to offset $w_0$, $y$-axis the incline $w_1$)"
   ]
  },
  {
   "cell_type": "code",
   "execution_count": null,
   "metadata": {},
   "outputs": [],
   "source": [
    "def density_plt(x_range, y_range,\n",
    "                true_loc=None, true_cov=None,\n",
    "                approx_loc=None, approx_cov=None):\n",
    "    \"\"\"\n",
    "    Same setup as above: We can choose to plot the \"true\" solution (in red) and/or the approximation (in green)    \n",
    "    \"\"\"\n",
    "    x = np.linspace(x_range[0], x_range[1], 100)\n",
    "    y = np.linspace(y_range[0], y_range[1], 100)\n",
    "    x_mesh, y_mesh = np.meshgrid(x, y)\n",
    "    pos = np.empty(x_mesh.shape + (2,))\n",
    "    pos[:, :, 0] = x_mesh\n",
    "    pos[:, :, 1] = y_mesh\n",
    "\n",
    "    if true_loc is not None and true_cov is not None:\n",
    "        rv = multivariate_normal(true_loc, true_cov)\n",
    "        plt.contour(x, y, rv.pdf(pos), colors='r')\n",
    "\n",
    "    if approx_loc is not None and true_cov is not None:\n",
    "        rv = multivariate_normal(approx_loc, approx_cov)\n",
    "        plt.contour(x, y, rv.pdf(pos), colors='g')\n",
    "        "
   ]
  },
  {
   "cell_type": "markdown",
   "metadata": {},
   "source": [
    "### Check that it works: Plot the data with the true model on top, and the prior over ($w_0$, $w_1$)"
   ]
  },
  {
   "cell_type": "code",
   "execution_count": null,
   "metadata": {},
   "outputs": [],
   "source": [
    "# Plot data\n",
    "data_plotter(x=x, y=y, true_w0=w0, true_w1=w1)\n",
    "plt.show()\n",
    "\n",
    "# Plot prior of (w0, w1)\n",
    "density_plt(x_range=[-2, 2], y_range=[-2, 2],\n",
    "            true_loc=[0, 0], true_cov=[[1, 0], [0, 1]])\n",
    "plt.show()\n"
   ]
  },
  {
   "cell_type": "markdown",
   "metadata": {},
   "source": [
    "## Learn the parameters using the variational Bayes formulas\n",
    "We have **two** variables of interest here, $w_0$ and $w_1$. Both are Gaussian a posteriori, and they are parameterized by their **mean** and **precision** (inverse variance). \n",
    "\n",
    "The update rules are as follows:\n",
    "\n",
    "* `q_0_prec` := $1 + \\gamma \\cdot N$.\n",
    "* `q_0_mean` := $(\\gamma \\cdot \\sum_i y_i - $ `q_1_mean` $ \\cdot \\sum_i x_i) /$ `q_0_prec`.\n",
    "* `q_1_prec` := $1 + \\gamma \\cdot \\sum_i x_i^2$.\n",
    "* `q_1_mean` := $\\gamma \\cdot (\\sum_i x_i y_i - $ `q_0_mean`  $\\cdot \\sum_i x_i) /$ `q_1_prec`."
   ]
  },
  {
   "cell_type": "code",
   "execution_count": null,
   "metadata": {},
   "outputs": [],
   "source": [
    "# Starting-point\n",
    "q_0_mean = 0.\n",
    "q_1_mean = 0.\n",
    "q_0_prec = 1.\n",
    "q_1_prec = 1.\n",
    "\n",
    "# Iterate\n",
    "for iter in range(25):\n",
    "    q_0_prec =   \n",
    "    q_0_mean = \n",
    "\n",
    "    q_1_prec = \n",
    "    q_1_mean = \n",
    "    \n",
    "    print(\"Iter {:2d}:  W0: {:6.3f} +/- {:6.3f}\".format(iter, q_0_mean, 1./np.sqrt(q_0_prec)), \n",
    "          \"\\tW1: {:6.3f} +/- {:6.3f}\".format(q_1_mean, 1./np.sqrt(q_1_prec))         )"
   ]
  },
  {
   "cell_type": "markdown",
   "metadata": {},
   "source": [
    "## Show off \n",
    "### The variables `q_0_mean`, `q_0_prec`, `q_1_mean`, and `q_1_prec` must be filled for this to work"
   ]
  },
  {
   "cell_type": "markdown",
   "metadata": {},
   "source": [
    "### First draw some random lines, i.e., values $(w_0, w_1)$, from the Variational Bayes posterior "
   ]
  },
  {
   "cell_type": "code",
   "execution_count": null,
   "metadata": {},
   "outputs": [],
   "source": [
    "for _ in range(100):\n",
    "    w0_sample = np.random.normal(loc=q_0_mean, scale=1/np.sqrt(q_0_prec))\n",
    "    w1_sample = np.random.normal(loc=q_1_mean, scale=1 / np.sqrt(q_1_prec))\n",
    "    data_plotter(x=x, approx_w0=w0_sample, approx_w1=w1_sample)\n",
    "data_plotter(x=x, y=y)\n",
    "plt.show()"
   ]
  },
  {
   "cell_type": "markdown",
   "metadata": {},
   "source": [
    "### And finally, look at the joint pdf of $(w_0, w_1)$ from VB compared to the exact Bayesian solution"
   ]
  },
  {
   "cell_type": "code",
   "execution_count": null,
   "metadata": {},
   "outputs": [],
   "source": [
    "extended_x = np.ones((N, 2))\n",
    "extended_x[:, 1] = x\n",
    "kernel = np.linalg.inv(np.eye(2) / gamma\n",
    "                       + np.matmul(np.transpose(extended_x), extended_x))\n",
    "bayesian_mean = np.matmul(kernel, np.matmul(np.transpose(extended_x), y))\n",
    "bayesian_cov = kernel / gamma\n",
    "\n",
    "density_plt(x_range=[w0 - 2. * st_dev, w0 + 2. * st_dev],\n",
    "            y_range=[w1 - 2. * st_dev, w1 + 2. * st_dev],\n",
    "            true_loc=bayesian_mean,\n",
    "            true_cov=bayesian_cov,\n",
    "            approx_loc=[q_0_mean, q_1_mean],\n",
    "            approx_cov=[[1/q_0_prec, 0], [0, 1/q_1_prec]])\n",
    "plt.show()"
   ]
  },
  {
   "cell_type": "code",
   "execution_count": null,
   "metadata": {},
   "outputs": [],
   "source": []
  }
 ],
 "metadata": {
  "kernelspec": {
   "display_name": "Python 3",
   "language": "python",
   "name": "python3"
  },
  "language_info": {
   "codemirror_mode": {
    "name": "ipython",
    "version": 3
   },
   "file_extension": ".py",
   "mimetype": "text/x-python",
   "name": "python",
   "nbconvert_exporter": "python",
   "pygments_lexer": "ipython3",
   "version": "3.6.5"
  }
 },
 "nbformat": 4,
 "nbformat_minor": 2
}
