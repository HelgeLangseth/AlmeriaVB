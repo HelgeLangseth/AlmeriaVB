{
 "cells": [
  {
   "cell_type": "markdown",
   "metadata": {},
   "source": [
    "# Translator: Go from moment representation to ExpFam-representation\n",
    "This task is about taking a distribution represented by its moment-parameters, translate it into the exponential family representation, and compare the two by plotting them. We will focus on Gaussians and Gamma-distributed variables here, but this exercise an be done for any exp.fam. distribution."
   ]
  },
  {
   "cell_type": "markdown",
   "metadata": {},
   "source": [
    "**Imports**"
   ]
  },
  {
   "cell_type": "code",
   "execution_count": null,
   "metadata": {},
   "outputs": [],
   "source": [
    "import numpy as np\n",
    "import matplotlib.pyplot as plt\n",
    "from scipy.stats import norm, gamma\n",
    "from scipy.special import gammaln"
   ]
  },
  {
   "cell_type": "markdown",
   "metadata": {},
   "source": [
    "**Helper function**\n",
    "\n",
    "Take representation of an exp.fam. distribution and a function to plot the moment-pdf"
   ]
  },
  {
   "cell_type": "code",
   "execution_count": null,
   "metadata": {},
   "outputs": [],
   "source": [
    "def plot_pdf(x, h, T, eta, A, moment_pdf):\n",
    "    \"\"\"\n",
    "    Put the pieces of an exp.fam.representation together and compare with the moment-representation.\n",
    "\n",
    "    :param x: The values for which we will evaluate the two functions\n",
    "                -- a list of x-values for which the pdf's are calculated\n",
    "    :param h: The log-base measure. This is a *function* that can be evaluated at any x, and for each x return a scalar\n",
    "    :param T: The sufficient statistics function. This is again a *Æfunction*. Takes a vector as input and\n",
    "                return a matrix (the vector of sufficient statistics for each value of the x-vector)\n",
    "    :param eta: Natural parameters. This is a vector, constant in x so not a function.\n",
    "    :param A: The log partition function. This is defined by the parameterization,\n",
    "                hence not a function in the implementation.\n",
    "    :param moment_pdf: A function that generates the pdf using moment parameters (so, a \"pointer\" to a built-in)\n",
    "    :return: Nothing.\n",
    "    \"\"\"\n",
    "    log_exp_fam = h(x) + np.matmul(eta, T(x)) - A   # Put together the log-pdf of the exp.fam. distribution\n",
    "    plt.plot(x, np.exp(log_exp_fam), \"b-\")  # Plot it\n",
    "    plt.plot(x, moment_pdf(x), \"r--\")   # Plot the \"gold-standard\"\n",
    "    plt.title('Moment PDF (red) and ExpFam pdf (blue). Hopefully identical')\n",
    "    plt.show()"
   ]
  },
  {
   "cell_type": "markdown",
   "metadata": {},
   "source": [
    "## EXAMPLE: GAUSSIAN"
   ]
  },
  {
   "cell_type": "markdown",
   "metadata": {},
   "source": [
    "**Define the starting-point**, that is, define the moment-parameters, the range for which 98% of the probability mass resides, and the pdf-function"
   ]
  },
  {
   "cell_type": "code",
   "execution_count": null,
   "metadata": {},
   "outputs": [],
   "source": [
    "# Moment parameters\n",
    "sigma = 3.\n",
    "mu = -1.\n",
    "# Choose x to cover most of the are where the distribution has probability mass\n",
    "x = np.linspace(norm.ppf(0.01, loc=mu, scale=sigma),\n",
    "                norm.ppf(0.99, loc=mu, scale=sigma), 25)\n",
    "\n",
    "# The comparison: Gauss pdf using the moment parameters\n",
    "def normal_pdf_function(x):\n",
    "    return norm.pdf(x, loc=mu, scale=sigma)"
   ]
  },
  {
   "cell_type": "markdown",
   "metadata": {},
   "source": [
    "### Define the exp.fam. representation"
   ]
  },
  {
   "cell_type": "markdown",
   "metadata": {},
   "source": [
    "**Log base measure:** For the Gaussian, $h(x) = -.5\\log(2\\pi)$. It is constant in $x$ for the Gaussian distribution,\n",
    "but is defined as a function in the implementation anyway, because the log base measure is a function in general."
   ]
  },
  {
   "cell_type": "code",
   "execution_count": null,
   "metadata": {},
   "outputs": [],
   "source": [
    "def log_base_measure_func(x):\n",
    "    return -.5 * np.log(2*np.pi)"
   ]
  },
  {
   "cell_type": "markdown",
   "metadata": {},
   "source": [
    "**Sufficient statistics:** For the gaussian,  $T(x) = [x, x^2]$. Note that if \n",
    "`x` is a vector/list this function should return an array"
   ]
  },
  {
   "cell_type": "code",
   "execution_count": null,
   "metadata": {},
   "outputs": [],
   "source": [
    "def T_func(x):\n",
    "    # Define storage space\n",
    "    ans = np.zeros((2, x.shape[0]))\n",
    "    # Fill in values\n",
    "    ans[0, :] = x\n",
    "    ans[1, :] = x * x\n",
    "    return ans"
   ]
  },
  {
   "cell_type": "markdown",
   "metadata": {},
   "source": [
    "**Natural parameters:** Defined from the moment parameters, and for the Gaussian it is \n",
    "    $[\\frac{\\mu}{\\sigma^2}, -\\frac{1}{2\\sigma^2}]$.\n"
   ]
  },
  {
   "cell_type": "code",
   "execution_count": null,
   "metadata": {},
   "outputs": [],
   "source": [
    "natural_parameters = np.array([mu/(sigma*sigma), -.5/(sigma*sigma)])"
   ]
  },
  {
   "cell_type": "markdown",
   "metadata": {},
   "source": [
    "**Log partition function:** Can be defined from moment parameters $(\\mu, \\sigma)$\n",
    "or alternatively from natural parameters. Here we use $A=\\frac{\\mu^2}{2\\sigma^2} + \\log|\\sigma|$."
   ]
  },
  {
   "cell_type": "code",
   "execution_count": null,
   "metadata": {},
   "outputs": [],
   "source": [
    "log_partition = mu*mu/(2*sigma*sigma) + np.log(sigma)"
   ]
  },
  {
   "cell_type": "markdown",
   "metadata": {},
   "source": [
    "### Plot the exp-fam we generated, and compare to the moment-parameterized PDF\n",
    "Note how functions are passed on, e.g. `h=log_base_measure_func` will ensure that `h(x)`can be called from `plot_pdf` with the `x` that is defined in the scope fo that function."
   ]
  },
  {
   "cell_type": "code",
   "execution_count": null,
   "metadata": {},
   "outputs": [],
   "source": [
    "plot_pdf(x=x, h=log_base_measure_func, T=T_func, \n",
    "         eta=natural_parameters, A=log_partition, \n",
    "         moment_pdf=normal_pdf_function)"
   ]
  },
  {
   "cell_type": "markdown",
   "metadata": {},
   "source": [
    "## And now the Gamma-distruibution\n",
    "\n",
    "Start by setting up. We can later play with alpha and beta"
   ]
  },
  {
   "cell_type": "code",
   "execution_count": null,
   "metadata": {},
   "outputs": [],
   "source": [
    "# Moment parameters\n",
    "alpha = 2.\n",
    "beta = 3.\n",
    "# Choose x as the range that covers 98% prob.mass\n",
    "x = np.linspace(gamma.ppf(0.01, a=alpha, scale=1/beta),\n",
    "                gamma.ppf(0.99, a=alpha, scale=1/beta), 25)\n",
    "\n",
    "# Calculate moment-parameter pdf\n",
    "def gamma_pdf_func(x):\n",
    "    return gamma.pdf(x, a=alpha, scale=1/beta)"
   ]
  },
  {
   "cell_type": "markdown",
   "metadata": {},
   "source": [
    "### Make the ExpFam representation\n",
    "\n",
    "Information about the Gamma can be found \n",
    "[here](https://en.wikipedia.org/wiki/Exponential_family#Table_of_distributions \"here\") \n",
    "or in the slides."
   ]
  },
  {
   "cell_type": "code",
   "execution_count": null,
   "metadata": {},
   "outputs": [],
   "source": [
    "# Log base measure: \n",
    "def log_base_measure_func(x):\n",
    "    return ????\n",
    "\n",
    "# Sufficient statistics: \n",
    "# If x is an array this function should return an array\n",
    "def T_func(x):\n",
    "    return ????\n",
    "\n",
    "# Natural parameters: Defined from the moment parameters\n",
    "natural_parameters =  ????\n",
    "\n",
    "# Log partition function. Can be defined from moment parameters alpha, beta\n",
    "# or alternatively from natural parameters [eta1, eta2]. \n",
    "log_partition  =  ????"
   ]
  },
  {
   "cell_type": "markdown",
   "metadata": {},
   "source": [
    "**Test by generating a plot**"
   ]
  },
  {
   "cell_type": "code",
   "execution_count": null,
   "metadata": {},
   "outputs": [],
   "source": [
    "plot_pdf(x=x, h=log_base_measure_func, T=T_func, \n",
    "         eta=natural_parameters, A=log_partition, moment_pdf=gamma_pdf_func)"
   ]
  }
 ],
 "metadata": {
  "kernelspec": {
   "display_name": "Python 3",
   "language": "python",
   "name": "python3"
  },
  "language_info": {
   "codemirror_mode": {
    "name": "ipython",
    "version": 3
   },
   "file_extension": ".py",
   "mimetype": "text/x-python",
   "name": "python",
   "nbconvert_exporter": "python",
   "pygments_lexer": "ipython3",
   "version": "3.6.5"
  }
 },
 "nbformat": 4,
 "nbformat_minor": 2
}
